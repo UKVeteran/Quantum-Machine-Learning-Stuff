{
  "nbformat": 4,
  "nbformat_minor": 0,
  "metadata": {
    "colab": {
      "name": "Cosine Function Fitting with a Quantum Neural Network (QNN).ipynb",
      "provenance": [],
      "collapsed_sections": []
    },
    "kernelspec": {
      "name": "python3",
      "display_name": "Python 3"
    },
    "language_info": {
      "name": "python"
    }
  },
  "cells": [
    {
      "cell_type": "code",
      "metadata": {
        "colab": {
          "base_uri": "https://localhost:8080/"
        },
        "id": "5nqhgz-ldtSI",
        "outputId": "8ac930d6-5855-4a3f-ceaa-6fa80c8b9c40"
      },
      "source": [
        "pip install pennylane"
      ],
      "execution_count": 27,
      "outputs": [
        {
          "output_type": "stream",
          "name": "stdout",
          "text": [
            "Requirement already satisfied: pennylane in /usr/local/lib/python3.7/dist-packages (0.17.0)\n",
            "Requirement already satisfied: numpy in /usr/local/lib/python3.7/dist-packages (from pennylane) (1.19.5)\n",
            "Requirement already satisfied: scipy in /usr/local/lib/python3.7/dist-packages (from pennylane) (1.4.1)\n",
            "Requirement already satisfied: networkx in /usr/local/lib/python3.7/dist-packages (from pennylane) (2.6.2)\n",
            "Requirement already satisfied: appdirs in /usr/local/lib/python3.7/dist-packages (from pennylane) (1.4.4)\n",
            "Requirement already satisfied: autoray in /usr/local/lib/python3.7/dist-packages (from pennylane) (0.2.5)\n",
            "Requirement already satisfied: semantic-version==2.6 in /usr/local/lib/python3.7/dist-packages (from pennylane) (2.6.0)\n",
            "Requirement already satisfied: toml in /usr/local/lib/python3.7/dist-packages (from pennylane) (0.10.2)\n",
            "Requirement already satisfied: autograd in /usr/local/lib/python3.7/dist-packages (from pennylane) (1.3)\n",
            "Requirement already satisfied: future>=0.15.2 in /usr/local/lib/python3.7/dist-packages (from autograd->pennylane) (0.16.0)\n"
          ]
        }
      ]
    },
    {
      "cell_type": "code",
      "metadata": {
        "id": "DMMpeL0RdwlZ"
      },
      "source": [
        "# Import PennyLane, the wrapped version of NumPy provided by PennyLane,and an optimizer.\n",
        "import pennylane as qml\n",
        "from pennylane import numpy as np"
      ],
      "execution_count": 53,
      "outputs": []
    },
    {
      "cell_type": "code",
      "metadata": {
        "id": "AIPJ3HuYdx2q"
      },
      "source": [
        "import matplotlib.pyplot as plt\n",
        "import numpy as np\n",
        "import pylab\n",
        "import pickle"
      ],
      "execution_count": 54,
      "outputs": []
    },
    {
      "cell_type": "code",
      "metadata": {
        "id": "KlKxAi3Vd0dN"
      },
      "source": [
        "Xlim = 5\n",
        "noise = np.random.normal(0,0.1,100) # generate noise to add to the function values (Y-values)\n",
        "# define functions\n",
        "X = np.arange(-Xlim, Xlim, 0.1)\n",
        "Y = np.cos(X)+noise"
      ],
      "execution_count": 55,
      "outputs": []
    },
    {
      "cell_type": "code",
      "metadata": {
        "id": "PQpCOHn8d1kX"
      },
      "source": [
        "# write the data out to a file\n",
        "cosdata = open('cosdata.md', 'wb')\n",
        "pickle.dump(Y, cosdata)\n",
        "cosdata.close()"
      ],
      "execution_count": 56,
      "outputs": []
    },
    {
      "cell_type": "code",
      "metadata": {
        "colab": {
          "base_uri": "https://localhost:8080/",
          "height": 282
        },
        "id": "GVwXBWXLd2oe",
        "outputId": "7ad9b7f8-460e-4e04-c65f-83f315a2ec68"
      },
      "source": [
        "plt.plot(X[0:200], Y[0:200])"
      ],
      "execution_count": 57,
      "outputs": [
        {
          "output_type": "execute_result",
          "data": {
            "text/plain": [
              "[<matplotlib.lines.Line2D at 0x7f269b8ef250>]"
            ]
          },
          "metadata": {},
          "execution_count": 57
        },
        {
          "output_type": "display_data",
          "data": {
            "image/png": "[encoded data removed]",
            "text/plain": [
              "<Figure size 432x288 with 1 Axes>"
            ]
          },
          "metadata": {
            "needs_background": "light"
          }
        }
      ]
    },
    {
      "cell_type": "code",
      "metadata": {
        "id": "ccssegDBf_MU"
      },
      "source": [
        "dev = qml.device(\"default.qubit\", wires=2)"
      ],
      "execution_count": 58,
      "outputs": []
    },
    {
      "cell_type": "code",
      "metadata": {
        "id": "KYgSnt1zgBB8"
      },
      "source": [
        "def layer(v):\n",
        "    # Matrix multiplication of input layer\n",
        "    qml.Rotation(v[0], wires=0)\n",
        "    qml.Squeezing(v[1], 0.0, wires=0)\n",
        "    qml.Rotation(v[2], wires=0)\n",
        "\n",
        "    # Bias\n",
        "    qml.Displacement(v[3], 0.0, wires=0)\n",
        "\n",
        "    # Element-wise nonlinear transformation\n",
        "    qml.Kerr(v[4], wires=0)"
      ],
      "execution_count": 59,
      "outputs": []
    },
    {
      "cell_type": "code",
      "metadata": {
        "id": "zoT9dvbLgFsY"
      },
      "source": [
        "@qml.qnode(dev)\n",
        "def quantum_neural_net(var, x=None):\n",
        "    # Encode input x into quantum state\n",
        "    qml.Displacement(x, 0.0, wires=0)\n",
        "\n",
        "    # \"layer\" subcircuits\n",
        "    for v in var:\n",
        "        layer(v)\n",
        "\n",
        "    return qml.expval(qml.X(0))"
      ],
      "execution_count": 60,
      "outputs": []
    },
    {
      "cell_type": "code",
      "metadata": {
        "id": "liDBbbKtgG_K"
      },
      "source": [
        "def square_loss(labels, predictions):\n",
        "    loss = 0\n",
        "    for l, p in zip(labels, predictions):\n",
        "        loss = loss + (l - p) ** 2\n",
        "\n",
        "    loss = loss / len(labels)\n",
        "    return loss"
      ],
      "execution_count": 61,
      "outputs": []
    },
    {
      "cell_type": "code",
      "metadata": {
        "id": "fB4I1zrEgIvW"
      },
      "source": [
        "def cost(var, features, labels):\n",
        "    preds = [quantum_neural_net(var, x=x) for x in features]\n",
        "    return square_loss(labels, preds)"
      ],
      "execution_count": 62,
      "outputs": []
    },
    {
      "cell_type": "code",
      "metadata": {
        "colab": {
          "base_uri": "https://localhost:8080/",
          "height": 292
        },
        "id": "WeqblY9NgMUh",
        "outputId": "464f44a0-13b0-49c9-f1a3-93103484bf8b"
      },
      "source": [
        "plt.figure()\n",
        "plt.scatter(X, Y)\n",
        "plt.xlabel(\"x\", fontsize=18)\n",
        "plt.ylabel(\"f(x)\", fontsize=18)\n",
        "plt.tick_params(axis=\"both\", which=\"major\", labelsize=16)\n",
        "plt.tick_params(axis=\"both\", which=\"minor\", labelsize=16)\n",
        "plt.show()"
      ],
      "execution_count": 63,
      "outputs": [
        {
          "output_type": "display_data",
          "data": {
            "image/png": "[encoded data removed]",
            "text/plain": [
              "<Figure size 432x288 with 1 Axes>"
            ]
          },
          "metadata": {
            "needs_background": "light"
          }
        }
      ]
    },
    {
      "cell_type": "code",
      "metadata": {
        "colab": {
          "base_uri": "https://localhost:8080/"
        },
        "id": "oczC5-0PgOGm",
        "outputId": "145da350-096b-480e-e98b-6677eea0160f"
      },
      "source": [
        "np.random.seed(0)\n",
        "num_layers = 4\n",
        "var_init = 0.05 * np.random.randn(num_layers, 5)\n",
        "print(var_init)"
      ],
      "execution_count": 64,
      "outputs": [
        {
          "output_type": "stream",
          "name": "stdout",
          "text": [
            "[[ 0.08820262  0.02000786  0.0489369   0.11204466  0.0933779 ]\n",
            " [-0.04886389  0.04750442 -0.00756786 -0.00516094  0.02052993]\n",
            " [ 0.00720218  0.07271368  0.03805189  0.00608375  0.02219316]\n",
            " [ 0.01668372  0.07470395 -0.01025791  0.01565339 -0.04270479]]\n"
          ]
        }
      ]
    }
  ]
}